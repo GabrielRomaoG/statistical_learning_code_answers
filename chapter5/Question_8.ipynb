{
 "cells": [
  {
   "cell_type": "code",
   "execution_count": 18,
   "metadata": {},
   "outputs": [],
   "source": [
    "import pandas as pd\n",
    "import numpy as np\n",
    "import seaborn as sns\n",
    "import matplotlib.pyplot as plt"
   ]
  },
  {
   "cell_type": "code",
   "execution_count": 46,
   "metadata": {},
   "outputs": [],
   "source": [
    "from sklearn.linear_model import LinearRegression\n",
    "from sklearn.preprocessing import PolynomialFeatures\n",
    "from sklearn.model_selection import LeaveOneOut\n",
    "from sklearn.metrics import mean_squared_error\n"
   ]
  },
  {
   "cell_type": "markdown",
   "metadata": {},
   "source": [
    "## a)"
   ]
  },
  {
   "cell_type": "code",
   "execution_count": 20,
   "metadata": {},
   "outputs": [],
   "source": [
    "rng = np.random.default_rng(1)\n",
    "x = rng.normal(size=100)\n",
    "y = x - 2 * x**2 + rng.normal(size=100)"
   ]
  },
  {
   "cell_type": "markdown",
   "metadata": {},
   "source": [
    "y = -2x^2 + x + e\n",
    "\n",
    "n = 100\n",
    "p = 2 (X and X^2)"
   ]
  },
  {
   "cell_type": "markdown",
   "metadata": {},
   "source": [
    "## b)"
   ]
  },
  {
   "cell_type": "code",
   "execution_count": 21,
   "metadata": {},
   "outputs": [
    {
     "data": {
      "image/png": "[encoded data removed]",
      "text/plain": [
       "<Figure size 640x480 with 1 Axes>"
      ]
     },
     "metadata": {},
     "output_type": "display_data"
    }
   ],
   "source": [
    "sns.scatterplot(x=x, y=y)\n",
    "plt.show()"
   ]
  },
  {
   "cell_type": "markdown",
   "metadata": {},
   "source": [
    "## c)"
   ]
  },
  {
   "cell_type": "code",
   "execution_count": 22,
   "metadata": {},
   "outputs": [],
   "source": [
    "np.random.seed(5)"
   ]
  },
  {
   "cell_type": "code",
   "execution_count": 48,
   "metadata": {},
   "outputs": [],
   "source": [
    "df = pd.DataFrame({'X':x, \"y\":y})\n",
    "\n",
    "loo = LeaveOneOut()\n",
    "lr = LinearRegression()"
   ]
  },
  {
   "cell_type": "code",
   "execution_count": 52,
   "metadata": {},
   "outputs": [
    {
     "name": "stdout",
     "output_type": "stream",
     "text": [
      "degree 1, MSE: 6.633029839181983\n",
      "degree 2, MSE: 1.122936856341969\n",
      "degree 3, MSE: 1.301796548935887\n",
      "degree 4, MSE: 1.3323942694179374\n"
     ]
    }
   ],
   "source": [
    "\n",
    "for deg in range(1, 5):\n",
    "    poly = PolynomialFeatures(deg)\n",
    "\n",
    "    mse_list = []\n",
    "\n",
    "    for train_idx, test_idx in loo.split(df):\n",
    "        X_train = df['X'].iloc[train_idx]\n",
    "        y_train = df['y'].iloc[train_idx]\n",
    "        X_test = df['X'].iloc[test_idx]\n",
    "        y_test = df['y'].iloc[test_idx]\n",
    "        \n",
    "\n",
    "        poly_X_train = poly.fit_transform(X_train.values.reshape(-1, 1))\n",
    "\n",
    "        lr.fit(poly_X_train, y_train)\n",
    "\n",
    "        poly_X_test = poly.fit_transform(X_test.values.reshape(-1, 1))\n",
    "        mse = mean_squared_error(y_test, lr.predict(poly_X_test))\n",
    "\n",
    "        mse_list.append(mse)\n",
    "    print(f\"degree {deg}, MSE: {np.mean(mse_list)}\")\n",
    "    "
   ]
  },
  {
   "cell_type": "markdown",
   "metadata": {},
   "source": [
    "## d)"
   ]
  },
  {
   "cell_type": "code",
   "execution_count": 53,
   "metadata": {},
   "outputs": [],
   "source": [
    "np.random.seed(24)"
   ]
  },
  {
   "cell_type": "code",
   "execution_count": 55,
   "metadata": {},
   "outputs": [
    {
     "name": "stdout",
     "output_type": "stream",
     "text": [
      "degree 1, MSE: 6.633029839181983\n",
      "degree 2, MSE: 1.122936856341969\n",
      "degree 3, MSE: 1.301796548935887\n",
      "degree 4, MSE: 1.3323942694179374\n"
     ]
    }
   ],
   "source": [
    "\n",
    "for deg in range(1, 5):\n",
    "    poly = PolynomialFeatures(deg)\n",
    "\n",
    "    mse_list = []\n",
    "\n",
    "    for train_idx, test_idx in loo.split(df):\n",
    "        X_train = df['X'].iloc[train_idx]\n",
    "        y_train = df['y'].iloc[train_idx]\n",
    "        X_test = df['X'].iloc[test_idx]\n",
    "        y_test = df['y'].iloc[test_idx]\n",
    "        \n",
    "\n",
    "        poly_X_train = poly.fit_transform(X_train.values.reshape(-1, 1))\n",
    "\n",
    "        lr.fit(poly_X_train, y_train)\n",
    "\n",
    "        poly_X_test = poly.fit_transform(X_test.values.reshape(-1, 1))\n",
    "        mse = mean_squared_error(y_test, lr.predict(poly_X_test))\n",
    "\n",
    "        mse_list.append(mse)\n",
    "    print(f\"degree {deg}, MSE: {np.mean(mse_list)}\")\n",
    "    "
   ]
  },
  {
   "cell_type": "markdown",
   "metadata": {},
   "source": [
    "## e) "
   ]
  },
  {
   "cell_type": "markdown",
   "metadata": {},
   "source": [
    "the best model is the one  that has degree equals to 2 as expected, since the the original function is also of the second degree."
   ]
  }
 ],
 "metadata": {
  "kernelspec": {
   "display_name": "islp_py310",
   "language": "python",
   "name": "python3"
  },
  "language_info": {
   "codemirror_mode": {
    "name": "ipython",
    "version": 3
   },
   "file_extension": ".py",
   "mimetype": "text/x-python",
   "name": "python",
   "nbconvert_exporter": "python",
   "pygments_lexer": "ipython3",
   "version": "3.10.8"
  }
 },
 "nbformat": 4,
 "nbformat_minor": 2
}
