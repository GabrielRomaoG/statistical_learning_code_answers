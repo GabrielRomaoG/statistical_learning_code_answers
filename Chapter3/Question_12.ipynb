{
 "cells": [
  {
   "cell_type": "code",
   "execution_count": 2,
   "metadata": {},
   "outputs": [],
   "source": [
    "import pandas as pd\n",
    "import numpy as np\n",
    "import seaborn as sns\n",
    "import matplotlib.pyplot as plt\n",
    "import os\n",
    "\n",
    "import statsmodels.api as sm\n",
    "\n",
    "from ISLP import load_data\n",
    "\n",
    "from ISLP.models import (ModelSpec as MS,\n",
    "                        summarize,\n",
    "                        poly)"
   ]
  },
  {
   "cell_type": "markdown",
   "metadata": {},
   "source": [
    "## a)\n",
    "Looking at the formula we can see that the two coefficients will be the same when sum of squared y is the same as the sum of squared x."
   ]
  },
  {
   "cell_type": "markdown",
   "metadata": {},
   "source": [
    "## b)"
   ]
  },
  {
   "cell_type": "code",
   "execution_count": 3,
   "metadata": {},
   "outputs": [
    {
     "data": {
      "text/html": [
       "<div>\n",
       "<style scoped>\n",
       "    .dataframe tbody tr th:only-of-type {\n",
       "        vertical-align: middle;\n",
       "    }\n",
       "\n",
       "    .dataframe tbody tr th {\n",
       "        vertical-align: top;\n",
       "    }\n",
       "\n",
       "    .dataframe thead th {\n",
       "        text-align: right;\n",
       "    }\n",
       "</style>\n",
       "<table border=\"1\" class=\"dataframe\">\n",
       "  <thead>\n",
       "    <tr style=\"text-align: right;\">\n",
       "      <th></th>\n",
       "      <th>x</th>\n",
       "      <th>y</th>\n",
       "    </tr>\n",
       "  </thead>\n",
       "  <tbody>\n",
       "    <tr>\n",
       "      <th>0</th>\n",
       "      <td>0.345584</td>\n",
       "      <td>0.039887</td>\n",
       "    </tr>\n",
       "    <tr>\n",
       "      <th>1</th>\n",
       "      <td>0.821618</td>\n",
       "      <td>2.505681</td>\n",
       "    </tr>\n",
       "    <tr>\n",
       "      <th>2</th>\n",
       "      <td>0.330437</td>\n",
       "      <td>0.535282</td>\n",
       "    </tr>\n",
       "    <tr>\n",
       "      <th>3</th>\n",
       "      <td>-1.303157</td>\n",
       "      <td>-1.937161</td>\n",
       "    </tr>\n",
       "    <tr>\n",
       "      <th>4</th>\n",
       "      <td>0.905356</td>\n",
       "      <td>3.029555</td>\n",
       "    </tr>\n",
       "    <tr>\n",
       "      <th>...</th>\n",
       "      <td>...</td>\n",
       "      <td>...</td>\n",
       "    </tr>\n",
       "    <tr>\n",
       "      <th>95</th>\n",
       "      <td>-2.250854</td>\n",
       "      <td>-6.119176</td>\n",
       "    </tr>\n",
       "    <tr>\n",
       "      <th>96</th>\n",
       "      <td>-0.138655</td>\n",
       "      <td>0.832327</td>\n",
       "    </tr>\n",
       "    <tr>\n",
       "      <th>97</th>\n",
       "      <td>0.033000</td>\n",
       "      <td>0.234106</td>\n",
       "    </tr>\n",
       "    <tr>\n",
       "      <th>98</th>\n",
       "      <td>-1.425349</td>\n",
       "      <td>-2.302292</td>\n",
       "    </tr>\n",
       "    <tr>\n",
       "      <th>99</th>\n",
       "      <td>0.332814</td>\n",
       "      <td>-0.399498</td>\n",
       "    </tr>\n",
       "  </tbody>\n",
       "</table>\n",
       "<p>100 rows × 2 columns</p>\n",
       "</div>"
      ],
      "text/plain": [
       "           x         y\n",
       "0   0.345584  0.039887\n",
       "1   0.821618  2.505681\n",
       "2   0.330437  0.535282\n",
       "3  -1.303157 -1.937161\n",
       "4   0.905356  3.029555\n",
       "..       ...       ...\n",
       "95 -2.250854 -6.119176\n",
       "96 -0.138655  0.832327\n",
       "97  0.033000  0.234106\n",
       "98 -1.425349 -2.302292\n",
       "99  0.332814 -0.399498\n",
       "\n",
       "[100 rows x 2 columns]"
      ]
     },
     "execution_count": 3,
     "metadata": {},
     "output_type": "execute_result"
    }
   ],
   "source": [
    "rng = np.random.default_rng(1)\n",
    "X = rng.normal(size=100)\n",
    "y = 2 * X + rng.normal(size=100)\n",
    "\n",
    "df = pd.DataFrame({'x': X, 'y': y})\n",
    "df"
   ]
  },
  {
   "cell_type": "code",
   "execution_count": 4,
   "metadata": {},
   "outputs": [
    {
     "name": "stdout",
     "output_type": "stream",
     "text": [
      "     coef  std err       t  P>|t|\n",
      "x  1.9762    0.117  16.898    0.0\n",
      "     coef  std err       t  P>|t|\n",
      "y  0.3757    0.022  16.898    0.0\n"
     ]
    }
   ],
   "source": [
    "# Regression of y into x\n",
    "X = MS('x', intercept=False).fit_transform(df)\n",
    "\n",
    "y = df.y\n",
    "\n",
    "result = sm.OLS(y, X).fit()\n",
    "print(summarize(result))\n",
    "\n",
    "# Regression of x into y\n",
    "\n",
    "X = MS('y', intercept=False).fit_transform(df)\n",
    "\n",
    "y = df.x\n",
    "\n",
    "result = sm.OLS(y, X).fit()\n",
    "print(summarize(result))"
   ]
  },
  {
   "cell_type": "markdown",
   "metadata": {},
   "source": [
    "## c)"
   ]
  },
  {
   "cell_type": "code",
   "execution_count": 9,
   "metadata": {},
   "outputs": [
    {
     "name": "stdout",
     "output_type": "stream",
     "text": [
      "      coef  std err      t  P>|t|\n",
      "x1 -0.0318      0.1 -0.316  0.752\n",
      "      coef  std err      t  P>|t|\n",
      "x1 -0.0318      0.1 -0.316  0.752\n"
     ]
    }
   ],
   "source": [
    "# we just have to garantee that what was stated in b alternative is true.\n",
    "\n",
    "X = np.random.randint(-50, 51, size=100)\n",
    "y = np.random.permutation(X)\n",
    "\n",
    "\n",
    "# Regression of y into x\n",
    "\n",
    "result = sm.OLS(y, X).fit()\n",
    "print(summarize(result))\n",
    "\n",
    "# Regression of x into y\n",
    "\n",
    "result = sm.OLS(X, y).fit()\n",
    "print(summarize(result))"
   ]
  }
 ],
 "metadata": {
  "kernelspec": {
   "display_name": "islp_py310",
   "language": "python",
   "name": "python3"
  },
  "language_info": {
   "codemirror_mode": {
    "name": "ipython",
    "version": 3
   },
   "file_extension": ".py",
   "mimetype": "text/x-python",
   "name": "python",
   "nbconvert_exporter": "python",
   "pygments_lexer": "ipython3",
   "version": "3.10.8"
  }
 },
 "nbformat": 4,
 "nbformat_minor": 2
}
